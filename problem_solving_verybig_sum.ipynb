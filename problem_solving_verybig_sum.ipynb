{
  "nbformat": 4,
  "nbformat_minor": 0,
  "metadata": {
    "colab": {
      "provenance": []
    },
    "kernelspec": {
      "name": "python3",
      "display_name": "Python 3"
    },
    "language_info": {
      "name": "python"
    }
  },
  "cells": [
    {
      "cell_type": "code",
      "source": [
        "#!/bin/python3\n",
        "\n",
        "import math\n",
        "import os\n",
        "import random\n",
        "import re\n",
        "import sys\n",
        "\n",
        "#\n",
        "# Complete the 'aVeryBigSum' function below.\n",
        "#\n",
        "# The function is expected to return a LONG_INTEGER.\n",
        "# The function accepts LONG_INTEGER_ARRAY ar as parameter.\n",
        "#\n",
        "\n",
        "def aVeryBigSum(ar):\n",
        "    return sum(ar)\n",
        "    # Write your code here\n",
        "\n",
        "if __name__ == '__main__':\n",
        "    # fptr = open(os.environ['OUTPUT_PATH'], 'w') # This line caused the error. Replace with:\n",
        "    fptr = sys.stdout # This will write output to the console.\n",
        "\n",
        "    ar_count = int(input().strip())\n",
        "\n",
        "    ar = list(map(int, input().rstrip().split()))\n",
        "\n",
        "    result = aVeryBigSum(ar)\n",
        "\n",
        "    fptr.write(str(result) + '\\n')\n",
        "\n",
        "    fptr.close() # This line is needed for closing the file object for consistency"
      ],
      "metadata": {
        "id": "ZS7T6ehoS8uS"
      },
      "execution_count": null,
      "outputs": []
    }
  ]
}